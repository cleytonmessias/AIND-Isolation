{
 "cells": [
  {
   "cell_type": "markdown",
   "metadata": {},
   "source": [
    "AIND-Isolation - Heuristics Analysis\n",
    "------------------------------------\n",
    "\n",
    "This notebook intends to describe analysis made in Isolation project from [Udacity AIND](https://www.udacity.com/ai/). This project should follow these [guidelines](https://review.udacity.com/#!/rubrics/680/view) to be accepted.\n",
    "\n"
   ]
  },
  {
   "cell_type": "markdown",
   "metadata": {},
   "source": [
    "### Baseline\n",
    "First, I've implemented minimax and alphabeta algorithms.\n",
    "To give me a baseline to work, I've used:\n",
    "\n",
    "- `custom_score` function is the same as in `sample_players -> improved_score`. \n",
    "- The first move was always the first available `legal_move` available (but it could be replaced after running the alphabeta or minimax algorithm)\n",
    "- NUM_MATCHES is 5 and TIME_LIMIT is 150\n",
    "\n",
    "The results can have 10% difference between each run as discussed in the forums. But to have a baseline, here's the results after running `tournament.py` with the configurations mentioned:\n",
    "\n",
    "- ID_Improved: 77.14%\n",
    "- Student: 81.43%\n",
    "\n"
   ]
  },
  {
   "cell_type": "raw",
   "metadata": {},
   "source": [
    "*************************\n",
    " Evaluating: ID_Improved\n",
    "*************************\n",
    "\n",
    "Playing Matches:\n",
    "----------\n",
    "  Match 1: ID_Improved vs   Random    \tResult: 16 to 4\n",
    "  Match 2: ID_Improved vs   MM_Null   \tResult: 18 to 2\n",
    "  Match 3: ID_Improved vs   MM_Open   \tResult: 15 to 5\n",
    "  Match 4: ID_Improved vs MM_Improved \tResult: 15 to 5\n",
    "  Match 5: ID_Improved vs   AB_Null   \tResult: 17 to 3\n",
    "  Match 6: ID_Improved vs   AB_Open   \tResult: 17 to 3\n",
    "  Match 7: ID_Improved vs AB_Improved \tResult: 10 to 10\n",
    "\n",
    "\n",
    "Results:\n",
    "----------\n",
    "ID_Improved         77.14%\n",
    "\n",
    "*************************\n",
    "   Evaluating: Student\n",
    "*************************\n",
    "\n",
    "Playing Matches:\n",
    "----------\n",
    "  Match 1:   Student   vs   Random    \tResult: 20 to 0\n",
    "  Match 2:   Student   vs   MM_Null   \tResult: 19 to 1\n",
    "  Match 3:   Student   vs   MM_Open   \tResult: 19 to 1\n",
    "  Match 4:   Student   vs MM_Improved \tResult: 12 to 8\n",
    "  Match 5:   Student   vs   AB_Null   \tResult: 19 to 1\n",
    "  Match 6:   Student   vs   AB_Open   \tResult: 13 to 7\n",
    "  Match 7:   Student   vs AB_Improved \tResult: 12 to 8\n",
    "\n",
    "\n",
    "Results:\n",
    "----------\n",
    "Student             81.43%"
   ]
  },
  {
   "cell_type": "markdown",
   "metadata": {
    "collapsed": true
   },
   "source": [
    "### First heuristics\n",
    "\n",
    "In order to get started, I've implement two variation from the same idea:\n",
    "\n",
    "- Get as far as possible\n",
    "- Get as close as possible \n",
    "\n",
    "The results didn't seem promissing, but was the first kick-off.\n",
    "\n",
    "Here's the code for `get_as_far_as_possible`: \n",
    "\n",
    "    def get_as_far_as_possible(game, player):\n",
    "        own_moves = game.get_legal_moves(player)\n",
    "        opp_moves = game.get_legal_moves(game.get_opponent(player))\n",
    "    \n",
    "        maximum_distance = -math.inf\n",
    "    \n",
    "        for a in own_moves:\n",
    "            for c in opp_moves:\n",
    "                dist = distance.euclidean(a,c)\n",
    "                if dist > maximum_distance:\n",
    "                    maximum_distance = dist\n",
    "                   \n",
    "        return float(maximum_distance)\n",
    "\n",
    "\n",
    "The result was **58.57%**:"
   ]
  },
  {
   "cell_type": "raw",
   "metadata": {},
   "source": [
    "Playing Matches:\n",
    "----------\n",
    "  Match 1:   Student   vs   Random    \tResult: 19 to 1\n",
    "  Match 2:   Student   vs   MM_Null   \tResult: 12 to 8\n",
    "  Match 3:   Student   vs   MM_Open   \tResult: 11 to 9\n",
    "  Match 4:   Student   vs MM_Improved \tResult: 12 to 8\n",
    "  Match 5:   Student   vs   AB_Null   \tResult: 11 to 9\n",
    "  Match 6:   Student   vs   AB_Open   \tResult: 10 to 10\n",
    "  Match 7:   Student   vs AB_Improved \tResult: 7 to 13\n",
    "\n",
    "\n",
    "Results:\n",
    "----------\n",
    "Student             58.57%"
   ]
  },
  {
   "cell_type": "markdown",
   "metadata": {},
   "source": [
    "Here's the code for `get_as_close_as_possible`:\n",
    "\n",
    "    def get_as_close_as_possible(game, player):\n",
    "        own_moves = game.get_legal_moves(player)\n",
    "        opp_moves = game.get_legal_moves(game.get_opponent(player))\n",
    "    \n",
    "        minimum_distance = math.inf\n",
    "    \n",
    "        for a in own_moves:\n",
    "            for c in opp_moves:\n",
    "                dist = distance.euclidean(a,c)\n",
    "                if dist < minimum_distance:\n",
    "                    minimum_distance = dist\n",
    "        #in order to have better scores for min distances, we should multiply by (-1)\n",
    "        return float(-minimum_distance)\n",
    "        \n",
    "        \n",
    "        \n",
    "The results was **62.86%**: "
   ]
  },
  {
   "cell_type": "raw",
   "metadata": {},
   "source": [
    "Playing Matches:\n",
    "----------\n",
    "  Match 1:   Student   vs   Random    \tResult: 19 to 1\n",
    "  Match 2:   Student   vs   MM_Null   \tResult: 16 to 4\n",
    "  Match 3:   Student   vs   MM_Open   \tResult: 9 to 11\n",
    "  Match 4:   Student   vs MM_Improved \tResult: 13 to 7\n",
    "  Match 5:   Student   vs   AB_Null   \tResult: 12 to 8\n",
    "  Match 6:   Student   vs   AB_Open   \tResult: 11 to 9\n",
    "  Match 7:   Student   vs AB_Improved \tResult: 8 to 12\n",
    "\n",
    "\n",
    "Results:\n",
    "----------\n",
    "Student             62.86%"
   ]
  },
  {
   "cell_type": "markdown",
   "metadata": {},
   "source": [
    "### Second heuristics\n",
    "\n",
    "As `get_as_close_as_possible` perfomed a slightly better than other, I've tried to consider blank spaces as well in order to get the score.\n",
    "\n",
    "Intuitively I thought increase blank spaces to final score would perform better, but the results showed that I should decrease blank spaces.\n",
    "\n",
    "Here's the final code:\n",
    "\n",
    "    def get_as_close_as_possible_with_blank_spaces(game, player):\n",
    "        own_moves = game.get_legal_moves(player)\n",
    "        opp_moves = game.get_legal_moves(game.get_opponent(player))\n",
    "        blank_spaces = len(game.get_blank_spaces())\n",
    "    \n",
    "    \n",
    "        minimum_distance = math.inf\n",
    "    \n",
    "        for a in own_moves:\n",
    "            for c in opp_moves:\n",
    "                dist = distance.euclidean(a,c)\n",
    "                if dist < minimum_distance:\n",
    "                    minimum_distance = dist\n",
    "                   \n",
    "        return float(-minimum_distance - blank_spaces) \n",
    "\n",
    "\n",
    "The result subtracting `blank_spaces` was **72.86%**:"
   ]
  },
  {
   "cell_type": "raw",
   "metadata": {},
   "source": [
    "  Match 1:   Student   vs   Random    \tResult: 19 to 1\n",
    "  Match 2:   Student   vs   MM_Null   \tResult: 19 to 1\n",
    "  Match 3:   Student   vs   MM_Open   \tResult: 11 to 9\n",
    "  Match 4:   Student   vs MM_Improved \tResult: 14 to 6\n",
    "  Match 5:   Student   vs   AB_Null   \tResult: 15 to 5\n",
    "  Match 6:   Student   vs   AB_Open   \tResult: 13 to 7\n",
    "  Match 7:   Student   vs AB_Improved \tResult: 11 to 9\n",
    "\n",
    "\n",
    "Results:\n",
    "----------\n",
    "Student             72.86%"
   ]
  },
  {
   "cell_type": "markdown",
   "metadata": {},
   "source": [
    "The result adding `blank_spaces` was **50%**:"
   ]
  },
  {
   "cell_type": "raw",
   "metadata": {
    "collapsed": false
   },
   "source": [
    " Match 1:   Student   vs   Random    \tResult: 17 to 3\n",
    "  Match 2:   Student   vs   MM_Null   \tResult: 11 to 9\n",
    "  Match 3:   Student   vs   MM_Open   \tResult: 9 to 11\n",
    "  Match 4:   Student   vs MM_Improved \tResult: 7 to 13\n",
    "  Match 5:   Student   vs   AB_Null   \tResult: 9 to 11\n",
    "  Match 6:   Student   vs   AB_Open   \tResult: 9 to 11\n",
    "  Match 7:   Student   vs AB_Improved \tResult: 8 to 12\n",
    "\n",
    "\n",
    "Results:\n",
    "----------\n",
    "Student             50.00%"
   ]
  },
  {
   "cell_type": "code",
   "execution_count": null,
   "metadata": {
    "collapsed": true
   },
   "outputs": [],
   "source": []
  }
 ],
 "metadata": {
  "kernelspec": {
   "display_name": "Python 3",
   "language": "python",
   "name": "python3"
  },
  "language_info": {
   "codemirror_mode": {
    "name": "ipython",
    "version": 3
   },
   "file_extension": ".py",
   "mimetype": "text/x-python",
   "name": "python",
   "nbconvert_exporter": "python",
   "pygments_lexer": "ipython3",
   "version": "3.5.2"
  }
 },
 "nbformat": 4,
 "nbformat_minor": 0
}
